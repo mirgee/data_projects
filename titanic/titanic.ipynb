{
 "cells": [
  {
   "cell_type": "markdown",
   "metadata": {},
   "source": [
    "# Predicting survivors on Titanic"
   ]
  },
  {
   "cell_type": "markdown",
   "metadata": {},
   "source": [
    "## Dependencies"
   ]
  },
  {
   "cell_type": "code",
   "execution_count": 1,
   "metadata": {
    "collapsed": true
   },
   "outputs": [],
   "source": [
    "# Import Dependencies\n",
    "%matplotlib inline\n",
    "\n",
    "from importlib import reload\n",
    "\n",
    "# Start Python Imports\n",
    "import math, time, random, datetime\n",
    "\n",
    "# Data Manipulation\n",
    "import numpy as np\n",
    "import pandas as pd\n",
    "from pandas.api.types import CategoricalDtype\n",
    "\n",
    "# Data Imputation\n",
    "import datawig\n",
    "\n",
    "# Visualization \n",
    "import matplotlib.pyplot as plt\n",
    "import missingno\n",
    "import seaborn as sns\n",
    "\n",
    "# Classifiers\n",
    "from sklearn.model_selection import cross_val_score, cross_val_predict, train_test_split, cross_validate\n",
    "from sklearn.svm import LinearSVC\n",
    "from sklearn.ensemble import GradientBoostingClassifier\n",
    "from sklearn.neighbors import KNeighborsClassifier\n",
    "from sklearn.naive_bayes import GaussianNB\n",
    "from sklearn.linear_model import LinearRegression, LogisticRegression, SGDClassifier\n",
    "from sklearn.tree import DecisionTreeClassifier\n",
    "\n",
    "plt.style.use('seaborn-whitegrid')"
   ]
  },
  {
   "cell_type": "markdown",
   "metadata": {},
   "source": [
    "## Information from the problem description"
   ]
  },
  {
   "cell_type": "markdown",
   "metadata": {},
   "source": [
    "* There were 2224 people aboard, out of which 1502 died.\n",
    "* The massive loss of life is mostly due to lack of lifeboats on the ship.\n",
    "* Although there was some element of luck involved in surviving the sinking, some groups of people were more likely to survive than others, such as women, children, and the upper-class."
   ]
  },
  {
   "cell_type": "markdown",
   "metadata": {},
   "source": [
    "## Loading the data"
   ]
  },
  {
   "cell_type": "code",
   "execution_count": 2,
   "metadata": {
    "collapsed": true
   },
   "outputs": [],
   "source": [
    "# Import train & test data \n",
    "train = pd.read_csv('data/train.csv', index_col='PassengerId')\n",
    "test = pd.read_csv('data/test.csv')\n",
    "gender_submission = pd.read_csv('data/gender_submission.csv') # example of what a submission should look like"
   ]
  },
  {
   "cell_type": "code",
   "execution_count": 3,
   "metadata": {},
   "outputs": [
    {
     "data": {
      "text/html": [
       "<div>\n",
       "<style scoped>\n",
       "    .dataframe tbody tr th:only-of-type {\n",
       "        vertical-align: middle;\n",
       "    }\n",
       "\n",
       "    .dataframe tbody tr th {\n",
       "        vertical-align: top;\n",
       "    }\n",
       "\n",
       "    .dataframe thead th {\n",
       "        text-align: right;\n",
       "    }\n",
       "</style>\n",
       "<table border=\"1\" class=\"dataframe\">\n",
       "  <thead>\n",
       "    <tr style=\"text-align: right;\">\n",
       "      <th></th>\n",
       "      <th>Survived</th>\n",
       "      <th>Pclass</th>\n",
       "      <th>Name</th>\n",
       "      <th>Sex</th>\n",
       "      <th>Age</th>\n",
       "      <th>SibSp</th>\n",
       "      <th>Parch</th>\n",
       "      <th>Ticket</th>\n",
       "      <th>Fare</th>\n",
       "      <th>Cabin</th>\n",
       "      <th>Embarked</th>\n",
       "    </tr>\n",
       "    <tr>\n",
       "      <th>PassengerId</th>\n",
       "      <th></th>\n",
       "      <th></th>\n",
       "      <th></th>\n",
       "      <th></th>\n",
       "      <th></th>\n",
       "      <th></th>\n",
       "      <th></th>\n",
       "      <th></th>\n",
       "      <th></th>\n",
       "      <th></th>\n",
       "      <th></th>\n",
       "    </tr>\n",
       "  </thead>\n",
       "  <tbody>\n",
       "    <tr>\n",
       "      <th>1</th>\n",
       "      <td>0</td>\n",
       "      <td>3</td>\n",
       "      <td>Braund, Mr. Owen Harris</td>\n",
       "      <td>male</td>\n",
       "      <td>22.0</td>\n",
       "      <td>1</td>\n",
       "      <td>0</td>\n",
       "      <td>A/5 21171</td>\n",
       "      <td>7.2500</td>\n",
       "      <td>NaN</td>\n",
       "      <td>S</td>\n",
       "    </tr>\n",
       "    <tr>\n",
       "      <th>2</th>\n",
       "      <td>1</td>\n",
       "      <td>1</td>\n",
       "      <td>Cumings, Mrs. John Bradley (Florence Briggs Th...</td>\n",
       "      <td>female</td>\n",
       "      <td>38.0</td>\n",
       "      <td>1</td>\n",
       "      <td>0</td>\n",
       "      <td>PC 17599</td>\n",
       "      <td>71.2833</td>\n",
       "      <td>C85</td>\n",
       "      <td>C</td>\n",
       "    </tr>\n",
       "    <tr>\n",
       "      <th>3</th>\n",
       "      <td>1</td>\n",
       "      <td>3</td>\n",
       "      <td>Heikkinen, Miss. Laina</td>\n",
       "      <td>female</td>\n",
       "      <td>26.0</td>\n",
       "      <td>0</td>\n",
       "      <td>0</td>\n",
       "      <td>STON/O2. 3101282</td>\n",
       "      <td>7.9250</td>\n",
       "      <td>NaN</td>\n",
       "      <td>S</td>\n",
       "    </tr>\n",
       "    <tr>\n",
       "      <th>4</th>\n",
       "      <td>1</td>\n",
       "      <td>1</td>\n",
       "      <td>Futrelle, Mrs. Jacques Heath (Lily May Peel)</td>\n",
       "      <td>female</td>\n",
       "      <td>35.0</td>\n",
       "      <td>1</td>\n",
       "      <td>0</td>\n",
       "      <td>113803</td>\n",
       "      <td>53.1000</td>\n",
       "      <td>C123</td>\n",
       "      <td>S</td>\n",
       "    </tr>\n",
       "    <tr>\n",
       "      <th>5</th>\n",
       "      <td>0</td>\n",
       "      <td>3</td>\n",
       "      <td>Allen, Mr. William Henry</td>\n",
       "      <td>male</td>\n",
       "      <td>35.0</td>\n",
       "      <td>0</td>\n",
       "      <td>0</td>\n",
       "      <td>373450</td>\n",
       "      <td>8.0500</td>\n",
       "      <td>NaN</td>\n",
       "      <td>S</td>\n",
       "    </tr>\n",
       "    <tr>\n",
       "      <th>6</th>\n",
       "      <td>0</td>\n",
       "      <td>3</td>\n",
       "      <td>Moran, Mr. James</td>\n",
       "      <td>male</td>\n",
       "      <td>NaN</td>\n",
       "      <td>0</td>\n",
       "      <td>0</td>\n",
       "      <td>330877</td>\n",
       "      <td>8.4583</td>\n",
       "      <td>NaN</td>\n",
       "      <td>Q</td>\n",
       "    </tr>\n",
       "    <tr>\n",
       "      <th>7</th>\n",
       "      <td>0</td>\n",
       "      <td>1</td>\n",
       "      <td>McCarthy, Mr. Timothy J</td>\n",
       "      <td>male</td>\n",
       "      <td>54.0</td>\n",
       "      <td>0</td>\n",
       "      <td>0</td>\n",
       "      <td>17463</td>\n",
       "      <td>51.8625</td>\n",
       "      <td>E46</td>\n",
       "      <td>S</td>\n",
       "    </tr>\n",
       "    <tr>\n",
       "      <th>8</th>\n",
       "      <td>0</td>\n",
       "      <td>3</td>\n",
       "      <td>Palsson, Master. Gosta Leonard</td>\n",
       "      <td>male</td>\n",
       "      <td>2.0</td>\n",
       "      <td>3</td>\n",
       "      <td>1</td>\n",
       "      <td>349909</td>\n",
       "      <td>21.0750</td>\n",
       "      <td>NaN</td>\n",
       "      <td>S</td>\n",
       "    </tr>\n",
       "    <tr>\n",
       "      <th>9</th>\n",
       "      <td>1</td>\n",
       "      <td>3</td>\n",
       "      <td>Johnson, Mrs. Oscar W (Elisabeth Vilhelmina Berg)</td>\n",
       "      <td>female</td>\n",
       "      <td>27.0</td>\n",
       "      <td>0</td>\n",
       "      <td>2</td>\n",
       "      <td>347742</td>\n",
       "      <td>11.1333</td>\n",
       "      <td>NaN</td>\n",
       "      <td>S</td>\n",
       "    </tr>\n",
       "    <tr>\n",
       "      <th>10</th>\n",
       "      <td>1</td>\n",
       "      <td>2</td>\n",
       "      <td>Nasser, Mrs. Nicholas (Adele Achem)</td>\n",
       "      <td>female</td>\n",
       "      <td>14.0</td>\n",
       "      <td>1</td>\n",
       "      <td>0</td>\n",
       "      <td>237736</td>\n",
       "      <td>30.0708</td>\n",
       "      <td>NaN</td>\n",
       "      <td>C</td>\n",
       "    </tr>\n",
       "    <tr>\n",
       "      <th>11</th>\n",
       "      <td>1</td>\n",
       "      <td>3</td>\n",
       "      <td>Sandstrom, Miss. Marguerite Rut</td>\n",
       "      <td>female</td>\n",
       "      <td>4.0</td>\n",
       "      <td>1</td>\n",
       "      <td>1</td>\n",
       "      <td>PP 9549</td>\n",
       "      <td>16.7000</td>\n",
       "      <td>G6</td>\n",
       "      <td>S</td>\n",
       "    </tr>\n",
       "    <tr>\n",
       "      <th>12</th>\n",
       "      <td>1</td>\n",
       "      <td>1</td>\n",
       "      <td>Bonnell, Miss. Elizabeth</td>\n",
       "      <td>female</td>\n",
       "      <td>58.0</td>\n",
       "      <td>0</td>\n",
       "      <td>0</td>\n",
       "      <td>113783</td>\n",
       "      <td>26.5500</td>\n",
       "      <td>C103</td>\n",
       "      <td>S</td>\n",
       "    </tr>\n",
       "    <tr>\n",
       "      <th>13</th>\n",
       "      <td>0</td>\n",
       "      <td>3</td>\n",
       "      <td>Saundercock, Mr. William Henry</td>\n",
       "      <td>male</td>\n",
       "      <td>20.0</td>\n",
       "      <td>0</td>\n",
       "      <td>0</td>\n",
       "      <td>A/5. 2151</td>\n",
       "      <td>8.0500</td>\n",
       "      <td>NaN</td>\n",
       "      <td>S</td>\n",
       "    </tr>\n",
       "    <tr>\n",
       "      <th>14</th>\n",
       "      <td>0</td>\n",
       "      <td>3</td>\n",
       "      <td>Andersson, Mr. Anders Johan</td>\n",
       "      <td>male</td>\n",
       "      <td>39.0</td>\n",
       "      <td>1</td>\n",
       "      <td>5</td>\n",
       "      <td>347082</td>\n",
       "      <td>31.2750</td>\n",
       "      <td>NaN</td>\n",
       "      <td>S</td>\n",
       "    </tr>\n",
       "    <tr>\n",
       "      <th>15</th>\n",
       "      <td>0</td>\n",
       "      <td>3</td>\n",
       "      <td>Vestrom, Miss. Hulda Amanda Adolfina</td>\n",
       "      <td>female</td>\n",
       "      <td>14.0</td>\n",
       "      <td>0</td>\n",
       "      <td>0</td>\n",
       "      <td>350406</td>\n",
       "      <td>7.8542</td>\n",
       "      <td>NaN</td>\n",
       "      <td>S</td>\n",
       "    </tr>\n",
       "  </tbody>\n",
       "</table>\n",
       "</div>"
      ],
      "text/plain": [
       "             Survived  Pclass  \\\n",
       "PassengerId                     \n",
       "1                   0       3   \n",
       "2                   1       1   \n",
       "3                   1       3   \n",
       "4                   1       1   \n",
       "5                   0       3   \n",
       "6                   0       3   \n",
       "7                   0       1   \n",
       "8                   0       3   \n",
       "9                   1       3   \n",
       "10                  1       2   \n",
       "11                  1       3   \n",
       "12                  1       1   \n",
       "13                  0       3   \n",
       "14                  0       3   \n",
       "15                  0       3   \n",
       "\n",
       "                                                          Name     Sex   Age  \\\n",
       "PassengerId                                                                    \n",
       "1                                      Braund, Mr. Owen Harris    male  22.0   \n",
       "2            Cumings, Mrs. John Bradley (Florence Briggs Th...  female  38.0   \n",
       "3                                       Heikkinen, Miss. Laina  female  26.0   \n",
       "4                 Futrelle, Mrs. Jacques Heath (Lily May Peel)  female  35.0   \n",
       "5                                     Allen, Mr. William Henry    male  35.0   \n",
       "6                                             Moran, Mr. James    male   NaN   \n",
       "7                                      McCarthy, Mr. Timothy J    male  54.0   \n",
       "8                               Palsson, Master. Gosta Leonard    male   2.0   \n",
       "9            Johnson, Mrs. Oscar W (Elisabeth Vilhelmina Berg)  female  27.0   \n",
       "10                         Nasser, Mrs. Nicholas (Adele Achem)  female  14.0   \n",
       "11                             Sandstrom, Miss. Marguerite Rut  female   4.0   \n",
       "12                                    Bonnell, Miss. Elizabeth  female  58.0   \n",
       "13                              Saundercock, Mr. William Henry    male  20.0   \n",
       "14                                 Andersson, Mr. Anders Johan    male  39.0   \n",
       "15                        Vestrom, Miss. Hulda Amanda Adolfina  female  14.0   \n",
       "\n",
       "             SibSp  Parch            Ticket     Fare Cabin Embarked  \n",
       "PassengerId                                                          \n",
       "1                1      0         A/5 21171   7.2500   NaN        S  \n",
       "2                1      0          PC 17599  71.2833   C85        C  \n",
       "3                0      0  STON/O2. 3101282   7.9250   NaN        S  \n",
       "4                1      0            113803  53.1000  C123        S  \n",
       "5                0      0            373450   8.0500   NaN        S  \n",
       "6                0      0            330877   8.4583   NaN        Q  \n",
       "7                0      0             17463  51.8625   E46        S  \n",
       "8                3      1            349909  21.0750   NaN        S  \n",
       "9                0      2            347742  11.1333   NaN        S  \n",
       "10               1      0            237736  30.0708   NaN        C  \n",
       "11               1      1           PP 9549  16.7000    G6        S  \n",
       "12               0      0            113783  26.5500  C103        S  \n",
       "13               0      0         A/5. 2151   8.0500   NaN        S  \n",
       "14               1      5            347082  31.2750   NaN        S  \n",
       "15               0      0            350406   7.8542   NaN        S  "
      ]
     },
     "execution_count": 3,
     "metadata": {},
     "output_type": "execute_result"
    }
   ],
   "source": [
    "train.head(15)"
   ]
  },
  {
   "cell_type": "markdown",
   "metadata": {},
   "source": [
    "**Survival:** 0 = No, 1 = Yes\n",
    "\n",
    "**pclass (Ticket class):** 1 = 1st, 2 = 2nd, 3 = 3rd\n",
    "\n",
    "**sex:** Sex\n",
    "\n",
    "**Age:** Age in years\n",
    "\n",
    "**sibsp:** number of siblings/spouses aboard the Titanic\n",
    "\n",
    "**parch:** number of parents/children aboard the Titanic\n",
    "\n",
    "**ticket:** Ticket number\n",
    "\n",
    "**fare:** Passenger fare\n",
    "\n",
    "**cabin:** Cabin number\n",
    "\n",
    "**embarked:** Port of Embarkation, C = Cherbourg, Q = Queenstown, S = Southampton"
   ]
  },
  {
   "cell_type": "code",
   "execution_count": 4,
   "metadata": {},
   "outputs": [
    {
     "name": "stdout",
     "output_type": "stream",
     "text": [
      "<class 'pandas.core.frame.DataFrame'>\n",
      "Int64Index: 891 entries, 1 to 891\n",
      "Data columns (total 11 columns):\n",
      "Survived    891 non-null int64\n",
      "Pclass      891 non-null int64\n",
      "Name        891 non-null object\n",
      "Sex         891 non-null object\n",
      "Age         714 non-null float64\n",
      "SibSp       891 non-null int64\n",
      "Parch       891 non-null int64\n",
      "Ticket      891 non-null object\n",
      "Fare        891 non-null float64\n",
      "Cabin       204 non-null object\n",
      "Embarked    889 non-null object\n",
      "dtypes: float64(2), int64(4), object(5)\n",
      "memory usage: 83.5+ KB\n"
     ]
    }
   ],
   "source": [
    "train.info()"
   ]
  },
  {
   "cell_type": "code",
   "execution_count": 5,
   "metadata": {},
   "outputs": [],
   "source": [
    "# We will progressively copy the training dataframe into separate dataframes\n",
    "# since it is proferrable to not modify the original dataset in this case\n",
    "df_train = train.copy()\n",
    "df_train['Male'] = np.where(df_train['Sex'] == 'male', 1, 0).astype('bool') # Since sex is initially string, make it into a category\n",
    "df_train = df_train.drop('Sex', axis=1)\n",
    "df_train['Survived'] = df_train['Survived'].astype('bool')\n",
    "df_train['Pclass'] = df_train['Pclass'].astype(CategoricalDtype(ordered=True))"
   ]
  },
  {
   "cell_type": "markdown",
   "metadata": {},
   "source": [
    "## Feature engineering"
   ]
  },
  {
   "cell_type": "markdown",
   "metadata": {},
   "source": [
    "### Title from name"
   ]
  },
  {
   "cell_type": "markdown",
   "metadata": {},
   "source": [
    "Looking at the names, we quickly realize that all passengers have titles. It may be the case that passengers with very rare titles were prioritized over regular passangers, so we extract the the title as a separate feature. On the other hand, we have to be careful, since there are numerous titles and we don't want to introduce too many categorical features - it is necessary to group the titles sensibly.\n",
    "\n",
    "Ideas:\n",
    "* An average male doctor may have been more likely to survive than an average male.\n",
    "* Military and religious titles may have been more likely to die.\n",
    "* Female nobility may have been more likely to survive\n",
    "\n",
    "-> group into (Miliary, Religious, Regular, Doctors)?\n",
    "\n",
    "Let's start by grouping identical titles and simply introducing 'other' category.\n"
   ]
  },
  {
   "cell_type": "code",
   "execution_count": 6,
   "metadata": {
    "scrolled": true
   },
   "outputs": [
    {
     "name": "stdout",
     "output_type": "stream",
     "text": [
      "All passangers have titles: True\n",
      "Mr.          517\n",
      "Miss.        182\n",
      "Mrs.         125\n",
      "Master.       40\n",
      "Dr.            7\n",
      "Rev.           6\n",
      "Mlle.          2\n",
      "Major.         2\n",
      "Col.           2\n",
      "Ms.            1\n",
      "Lady.          1\n",
      "Countess.      1\n",
      "Don.           1\n",
      "Sir.           1\n",
      "Mme.           1\n",
      "Capt.          1\n",
      "Jonkheer.      1\n",
      "dtype: int64\n"
     ]
    }
   ],
   "source": [
    "# Get titles from names\n",
    "def get_title(name, filt=False, male=None):\n",
    "    title = list(filter(lambda x: '.' in x, name.split(' ')))[0]\n",
    "    return filter_title(title, male) if filt else title\n",
    "\n",
    "def filter_title(title, male):\n",
    "    # Replace superfluous titles\n",
    "    if title in ('Mlle.', 'Ms.', 'Miss.') :\n",
    "        title = 'Miss.'\n",
    "    elif title == 'Mme.':\n",
    "        title = 'Mrs.'\n",
    "    elif title in other:\n",
    "        title = 'Other_m' if male else 'Other_f'\n",
    "    return title\n",
    "\n",
    "titles = np.array([get_title(name) for name in train.Name])\n",
    "\n",
    "# Do all people have titles?\n",
    "print('All passangers have titles:', len(titles) == len(train))\n",
    "print(pd.value_counts(titles))"
   ]
  },
  {
   "cell_type": "code",
   "execution_count": 98,
   "metadata": {},
   "outputs": [
    {
     "name": "stderr",
     "output_type": "stream",
     "text": [
      "/home/miroslav/.local/lib/python3.5/site-packages/scipy/stats/stats.py:1633: FutureWarning: Using a non-tuple sequence for multidimensional indexing is deprecated; use `arr[tuple(seq)]` instead of `arr[seq]`. In the future this will be interpreted as an array index, `arr[np.array(seq)]`, which will result either in an error or a different result.\n",
      "  return np.add.reduce(sorted[indexer] * weights, axis=axis) / sumval\n"
     ]
    },
    {
     "data": {
      "text/plain": [
       "<seaborn.axisgrid.FacetGrid at 0x7fe2f7e385c0>"
      ]
     },
     "execution_count": 98,
     "metadata": {},
     "output_type": "execute_result"
    },
    {
     "data": {
      "image/png": "[encoded data removed]",
      "text/plain": [
       "<matplotlib.figure.Figure at 0x7fe2f7ee3cf8>"
      ]
     },
     "metadata": {},
     "output_type": "display_data"
    },
    {
     "data": {
      "image/png": "[encoded data removed]",
      "text/plain": [
       "<matplotlib.figure.Figure at 0x7fe2f7c0e780>"
      ]
     },
     "metadata": {},
     "output_type": "display_data"
    }
   ],
   "source": [
    "# Add titles and rarity as nominal features\n",
    "rare = [title for title, count in zip(*np.unique(titles, return_counts=True)) if count < 40]\n",
    "# We will group the rarest titles into 'other' group \n",
    "other = [title for title, count in zip(*np.unique(titles, return_counts=True)) if count < 3]\n",
    "\n",
    "df_train['Title'] = df_train.apply(lambda r: get_title(r.Name, filt=False), axis=1).astype(CategoricalDtype(ordered=False))\n",
    "df_train['Rare'] = df_train.apply(lambda r: int(r.Title in rare+other), axis=1).astype('bool')\n",
    "df_train['Title'] = df_train.apply(lambda r: get_title(r.Name, filt=True, male=r.Male), axis=1).astype(CategoricalDtype(ordered=False))\n",
    "df_train['Master'] = df_train.apply(lambda r: int(r.Title =='Master.'), axis=1).astype('bool')\n",
    "df_train['Mr'] = df_train.apply(lambda r: int(r.Title == 'Mr.'), axis=1).astype('bool')\n",
    "\n",
    "sns.catplot(data=df_train, x='Male', y='Survived', hue='Rare', kind='bar')\n",
    "sns.catplot(data=df_train, x='Title', hue='Survived', kind='count', order=df_train.Title.value_counts().index, height=10)"
   ]
  },
  {
   "cell_type": "markdown",
   "metadata": {},
   "source": [
    "Observations:\n",
    "* Bearers of rare titles indeed do seem to be more likely to survive.\n",
    "* Miss. and Mrs. have about the same rate of survival\n",
    "* Master. have much higher rate of survival than regular Mr."
   ]
  },
  {
   "cell_type": "markdown",
   "metadata": {},
   "source": [
    "### Deck from cabin"
   ]
  },
  {
   "cell_type": "markdown",
   "metadata": {},
   "source": [
    "There are too many unique values for cabin to consider it as a categorical feature, but we may extract the first letter, which happens to to be the deck where the cabin is located and hence is more coarse. Then, it will be easier to fill in the missing values."
   ]
  },
  {
   "cell_type": "code",
   "execution_count": 8,
   "metadata": {
    "scrolled": true
   },
   "outputs": [
    {
     "data": {
      "text/plain": [
       "array(['E50', 'D9', 'C103', 'B69', 'C106', 'E17', 'C62 C64', 'D56', 'C85',\n",
       "       'D15', 'C54', 'D47', 'B73', 'E49', 'B39', 'E68', 'D19', 'C47',\n",
       "       'E34', 'B86', 'D46', 'C91', 'B71', 'C45', 'A34', 'B19', 'C86',\n",
       "       'A26', 'B80', 'A6', 'A23', 'C128', 'F G63', 'B37', 'C118', 'B101',\n",
       "       'A20', 'D30', 'B41', 'D45', 'E63', 'C111', 'C30', 'E31', 'C90',\n",
       "       'C95', 'D11', 'B78', 'C87', 'D10 D12', 'B82 B84', 'E58', 'C46',\n",
       "       'B94', 'C82', 'C99', 'E40', 'B4', 'A10', 'E12', 'E46', 'A7', 'B30',\n",
       "       'E38', 'D6', 'A16', 'A14', 'C101', 'A32', 'B102', 'A24', 'E77',\n",
       "       'B42', 'A36', 'C32', 'D49', 'T', 'B50', 'E36', 'B79', 'C7', 'D48',\n",
       "       'C50', 'F38', 'E10', 'D28', 'D37', 'B3', 'D7', 'A5', 'C70', 'D21',\n",
       "       'C49', 'A19', 'C110', 'A31', 'C104', 'F E69', 'B38', 'D50', 'C148'],\n",
       "      dtype=object)"
      ]
     },
     "execution_count": 8,
     "metadata": {},
     "output_type": "execute_result"
    }
   ],
   "source": [
    "train.Cabin.value_counts()[train.Cabin.value_counts() == 1].index.values"
   ]
  },
  {
   "cell_type": "code",
   "execution_count": 9,
   "metadata": {},
   "outputs": [
    {
     "data": {
      "text/html": [
       "<div>\n",
       "<style scoped>\n",
       "    .dataframe tbody tr th:only-of-type {\n",
       "        vertical-align: middle;\n",
       "    }\n",
       "\n",
       "    .dataframe tbody tr th {\n",
       "        vertical-align: top;\n",
       "    }\n",
       "\n",
       "    .dataframe thead th {\n",
       "        text-align: right;\n",
       "    }\n",
       "</style>\n",
       "<table border=\"1\" class=\"dataframe\">\n",
       "  <thead>\n",
       "    <tr style=\"text-align: right;\">\n",
       "      <th></th>\n",
       "      <th>Survived</th>\n",
       "      <th>Pclass</th>\n",
       "      <th>Name</th>\n",
       "      <th>Sex</th>\n",
       "      <th>Age</th>\n",
       "      <th>SibSp</th>\n",
       "      <th>Parch</th>\n",
       "      <th>Ticket</th>\n",
       "      <th>Fare</th>\n",
       "      <th>Cabin</th>\n",
       "      <th>Embarked</th>\n",
       "    </tr>\n",
       "    <tr>\n",
       "      <th>PassengerId</th>\n",
       "      <th></th>\n",
       "      <th></th>\n",
       "      <th></th>\n",
       "      <th></th>\n",
       "      <th></th>\n",
       "      <th></th>\n",
       "      <th></th>\n",
       "      <th></th>\n",
       "      <th></th>\n",
       "      <th></th>\n",
       "      <th></th>\n",
       "    </tr>\n",
       "  </thead>\n",
       "  <tbody>\n",
       "    <tr>\n",
       "      <th>11</th>\n",
       "      <td>1</td>\n",
       "      <td>3</td>\n",
       "      <td>Sandstrom, Miss. Marguerite Rut</td>\n",
       "      <td>female</td>\n",
       "      <td>4.0</td>\n",
       "      <td>1</td>\n",
       "      <td>1</td>\n",
       "      <td>PP 9549</td>\n",
       "      <td>16.7000</td>\n",
       "      <td>G6</td>\n",
       "      <td>S</td>\n",
       "    </tr>\n",
       "    <tr>\n",
       "      <th>206</th>\n",
       "      <td>0</td>\n",
       "      <td>3</td>\n",
       "      <td>Strom, Miss. Telma Matilda</td>\n",
       "      <td>female</td>\n",
       "      <td>2.0</td>\n",
       "      <td>0</td>\n",
       "      <td>1</td>\n",
       "      <td>347054</td>\n",
       "      <td>10.4625</td>\n",
       "      <td>G6</td>\n",
       "      <td>S</td>\n",
       "    </tr>\n",
       "    <tr>\n",
       "      <th>252</th>\n",
       "      <td>0</td>\n",
       "      <td>3</td>\n",
       "      <td>Strom, Mrs. Wilhelm (Elna Matilda Persson)</td>\n",
       "      <td>female</td>\n",
       "      <td>29.0</td>\n",
       "      <td>1</td>\n",
       "      <td>1</td>\n",
       "      <td>347054</td>\n",
       "      <td>10.4625</td>\n",
       "      <td>G6</td>\n",
       "      <td>S</td>\n",
       "    </tr>\n",
       "    <tr>\n",
       "      <th>395</th>\n",
       "      <td>1</td>\n",
       "      <td>3</td>\n",
       "      <td>Sandstrom, Mrs. Hjalmar (Agnes Charlotta Bengt...</td>\n",
       "      <td>female</td>\n",
       "      <td>24.0</td>\n",
       "      <td>0</td>\n",
       "      <td>2</td>\n",
       "      <td>PP 9549</td>\n",
       "      <td>16.7000</td>\n",
       "      <td>G6</td>\n",
       "      <td>S</td>\n",
       "    </tr>\n",
       "  </tbody>\n",
       "</table>\n",
       "</div>"
      ],
      "text/plain": [
       "             Survived  Pclass  \\\n",
       "PassengerId                     \n",
       "11                  1       3   \n",
       "206                 0       3   \n",
       "252                 0       3   \n",
       "395                 1       3   \n",
       "\n",
       "                                                          Name     Sex   Age  \\\n",
       "PassengerId                                                                    \n",
       "11                             Sandstrom, Miss. Marguerite Rut  female   4.0   \n",
       "206                                 Strom, Miss. Telma Matilda  female   2.0   \n",
       "252                 Strom, Mrs. Wilhelm (Elna Matilda Persson)  female  29.0   \n",
       "395          Sandstrom, Mrs. Hjalmar (Agnes Charlotta Bengt...  female  24.0   \n",
       "\n",
       "             SibSp  Parch   Ticket     Fare Cabin Embarked  \n",
       "PassengerId                                                 \n",
       "11               1      1  PP 9549  16.7000    G6        S  \n",
       "206              0      1   347054  10.4625    G6        S  \n",
       "252              1      1   347054  10.4625    G6        S  \n",
       "395              0      2  PP 9549  16.7000    G6        S  "
      ]
     },
     "execution_count": 9,
     "metadata": {},
     "output_type": "execute_result"
    }
   ],
   "source": [
    "train[train.Cabin == 'G6']"
   ]
  },
  {
   "cell_type": "code",
   "execution_count": 10,
   "metadata": {},
   "outputs": [
    {
     "data": {
      "text/plain": [
       "<seaborn.axisgrid.FacetGrid at 0x7fe2fdf2fc88>"
      ]
     },
     "execution_count": 10,
     "metadata": {},
     "output_type": "execute_result"
    },
    {
     "data": {
      "image/png": "[encoded data removed]",
      "text/plain": [
       "<matplotlib.figure.Figure at 0x7fe2fdf88da0>"
      ]
     },
     "metadata": {},
     "output_type": "display_data"
    }
   ],
   "source": [
    "def get_deck(row):\n",
    "    if row.Cabin is np.NaN:\n",
    "        return np.NaN\n",
    "    return str(row.Cabin)[0]\n",
    "\n",
    "df_train['Deck'] = df_train.apply(lambda r: get_deck(r), axis=1).astype(CategoricalDtype(ordered=False))\n",
    "sns.catplot(data=df_train, x='Deck', hue='Survived', kind='count')"
   ]
  },
  {
   "cell_type": "markdown",
   "metadata": {},
   "source": [
    "Observations:\n",
    "* When a group (e.g. family) registered multiple cabins, each passenger seems to have all of the cabins assigned.\n",
    "* However, some groups have less cabins assigned than the number of persons in group - maybe we can find persons who they are related to and assign them to the same cabin (e.g. based on name). On the other hand, this may be unreliable and just add noise.\n",
    "* It seems that the lower class sometimes registered multiple persons to a single cabin. Maybe we can quantify that? However, it is questionable how much predctive power such information has.\n",
    "* Passengers in cabin A seem slightly more likely to surive (T may be just fluctuation). \n",
    "\n",
    "Decisions:\n",
    "* Do not add deck as a feature."
   ]
  },
  {
   "cell_type": "markdown",
   "metadata": {},
   "source": [
    "### Family size"
   ]
  },
  {
   "cell_type": "code",
   "execution_count": 92,
   "metadata": {},
   "outputs": [
    {
     "data": {
      "text/plain": [
       "<seaborn.axisgrid.FacetGrid at 0x7fe2f71acba8>"
      ]
     },
     "execution_count": 92,
     "metadata": {},
     "output_type": "execute_result"
    },
    {
     "data": {
      "image/png": "[encoded data removed]",
      "text/plain": [
       "<matplotlib.figure.Figure at 0x7fe2f71ac940>"
      ]
     },
     "metadata": {},
     "output_type": "display_data"
    }
   ],
   "source": [
    "df_train['FamSize'] = train.apply(lambda r: r.SibSp + r.Parch + 1, axis=1)\n",
    "sns.catplot(data=df_train, x='FamSize', hue='Survived', kind='count')"
   ]
  },
  {
   "cell_type": "code",
   "execution_count": 93,
   "metadata": {
    "collapsed": true
   },
   "outputs": [],
   "source": [
    "def get_fam_size(row):\n",
    "    if row.FamSize == 1 or row.FamSize > 4:\n",
    "        return 0\n",
    "    else:\n",
    "        return 1\n",
    "    \n",
    "df_train['FamSize'] = df_train.apply(lambda r: get_fam_size(r), axis=1).astype(CategoricalDtype(ordered=True))"
   ]
  },
  {
   "cell_type": "markdown",
   "metadata": {},
   "source": [
    "Observation:\n",
    "* People travelling in families were more likely to survive for family size 2, 3, 4 (and progressively so). However, for more numerous families, the trend reverses.\n",
    "\n",
    "Decision:\n",
    "* Add family size either as a categorical (3 categories) or numerical feature for the classifier."
   ]
  },
  {
   "cell_type": "markdown",
   "metadata": {},
   "source": [
    "### Mother, father, child, loners, 3rd class"
   ]
  },
  {
   "cell_type": "markdown",
   "metadata": {},
   "source": [
    "We want to distinguish parents and children. In particular, difference between mothers and fathers may have been important. "
   ]
  },
  {
   "cell_type": "code",
   "execution_count": 80,
   "metadata": {},
   "outputs": [],
   "source": [
    "def is_mother(row):\n",
    "    return row.Age >= 18 and row.Parch > 0 and row.Male == False and row.Title != 'Miss.'\n",
    "def is_father(row):\n",
    "    return row.Age >= 18 and row.Parch > 0 and row.Male == True\n",
    "def is_child(row):\n",
    "    return row.Age < 18 and row.Parch > 0\n",
    "def is_alone(row):\n",
    "    return row.FamSize == 1 \n",
    "def is_3rd_class(row):\n",
    "    return row.Pclass == 3\n",
    "\n",
    "df_train['Mother'] = df_train.apply(lambda r: is_mother(r), axis=1).astype('bool')\n",
    "df_train['Father'] = df_train.apply(lambda r: is_father(r), axis=1).astype('bool')\n",
    "df_train['Child'] = df_train.apply(lambda r: is_child(r), axis=1).astype('bool')\n",
    "df_train['Alone'] = df_train.apply(lambda r: is_alone(r), axis=1).astype('bool')\n",
    "df_train['Class3'] = df_train.apply(lambda r: is_3rd_class(r), axis=1).astype('bool')"
   ]
  },
  {
   "cell_type": "code",
   "execution_count": 14,
   "metadata": {
    "collapsed": true
   },
   "outputs": [],
   "source": [
    "for _, g in train.groupby(\"Name\"):\n",
    "    if len(g) > 1:\n",
    "        print(g)"
   ]
  },
  {
   "cell_type": "markdown",
   "metadata": {},
   "source": [
    "Observation:\n",
    "* There seem to be no duplicated names.\n",
    "* There are duplicated cabins, but that seems to be because cabins are assigned group-wise and multiple people may share the same deck."
   ]
  },
  {
   "cell_type": "markdown",
   "metadata": {},
   "source": [
    "## Data imputation"
   ]
  },
  {
   "cell_type": "markdown",
   "metadata": {},
   "source": [
    "### Missing values"
   ]
  },
  {
   "cell_type": "code",
   "execution_count": 15,
   "metadata": {
    "scrolled": true
   },
   "outputs": [
    {
     "name": "stdout",
     "output_type": "stream",
     "text": [
      "Survived      0\n",
      "Pclass        0\n",
      "Name          0\n",
      "Age         177\n",
      "SibSp         0\n",
      "Parch         0\n",
      "Ticket        0\n",
      "Fare          0\n",
      "Cabin       687\n",
      "Embarked      2\n",
      "Male          0\n",
      "Title         0\n",
      "Rare          0\n",
      "Deck        687\n",
      "FamSize       0\n",
      "Mother        0\n",
      "Father        0\n",
      "Child         0\n",
      "Alone         0\n",
      "dtype: int64\n"
     ]
    },
    {
     "data": {
      "text/plain": [
       "<matplotlib.axes._subplots.AxesSubplot at 0x7fe2fdb2c320>"
      ]
     },
     "execution_count": 15,
     "metadata": {},
     "output_type": "execute_result"
    },
    {
     "data": {
      "image/png": "[encoded data removed]",
      "text/plain": [
       "<matplotlib.figure.Figure at 0x7fe30184a5f8>"
      ]
     },
     "metadata": {},
     "output_type": "display_data"
    }
   ],
   "source": [
    "print(df_train.isnull().sum())\n",
    "missingno.matrix(df_train)"
   ]
  },
  {
   "cell_type": "markdown",
   "metadata": {},
   "source": [
    "Observations:\n",
    "* Age has almost 20% missing values\n",
    "* Cabin has 77% missing values\n",
    "* There are 2 missing values in Embarked. It may be possible to infer them from class and ticket price.\n",
    "\n",
    "Decisions:\n",
    "* We may need to have to fill cabin from other sources, or drop it. We will check if its correlated with survival.\n",
    "* Age will likely have to be filled in, since it is correlated with survival according to the description.\n",
    "* We may also drop PassengerId, since it is definitely no related to survival.\n",
    "* Try to impute missing Embarked."
   ]
  },
  {
   "cell_type": "markdown",
   "metadata": {},
   "source": [
    "### Imputing missing embarkation"
   ]
  },
  {
   "cell_type": "code",
   "execution_count": 16,
   "metadata": {},
   "outputs": [
    {
     "data": {
      "text/html": [
       "<div>\n",
       "<style scoped>\n",
       "    .dataframe tbody tr th:only-of-type {\n",
       "        vertical-align: middle;\n",
       "    }\n",
       "\n",
       "    .dataframe tbody tr th {\n",
       "        vertical-align: top;\n",
       "    }\n",
       "\n",
       "    .dataframe thead th {\n",
       "        text-align: right;\n",
       "    }\n",
       "</style>\n",
       "<table border=\"1\" class=\"dataframe\">\n",
       "  <thead>\n",
       "    <tr style=\"text-align: right;\">\n",
       "      <th></th>\n",
       "      <th>Survived</th>\n",
       "      <th>Pclass</th>\n",
       "      <th>Name</th>\n",
       "      <th>Age</th>\n",
       "      <th>SibSp</th>\n",
       "      <th>Parch</th>\n",
       "      <th>Ticket</th>\n",
       "      <th>Fare</th>\n",
       "      <th>Cabin</th>\n",
       "      <th>Embarked</th>\n",
       "      <th>Male</th>\n",
       "      <th>Title</th>\n",
       "      <th>Rare</th>\n",
       "      <th>Deck</th>\n",
       "      <th>FamSize</th>\n",
       "      <th>Mother</th>\n",
       "      <th>Father</th>\n",
       "      <th>Child</th>\n",
       "      <th>Alone</th>\n",
       "    </tr>\n",
       "    <tr>\n",
       "      <th>PassengerId</th>\n",
       "      <th></th>\n",
       "      <th></th>\n",
       "      <th></th>\n",
       "      <th></th>\n",
       "      <th></th>\n",
       "      <th></th>\n",
       "      <th></th>\n",
       "      <th></th>\n",
       "      <th></th>\n",
       "      <th></th>\n",
       "      <th></th>\n",
       "      <th></th>\n",
       "      <th></th>\n",
       "      <th></th>\n",
       "      <th></th>\n",
       "      <th></th>\n",
       "      <th></th>\n",
       "      <th></th>\n",
       "      <th></th>\n",
       "    </tr>\n",
       "  </thead>\n",
       "  <tbody>\n",
       "    <tr>\n",
       "      <th>62</th>\n",
       "      <td>True</td>\n",
       "      <td>1</td>\n",
       "      <td>Icard, Miss. Amelie</td>\n",
       "      <td>38.0</td>\n",
       "      <td>0</td>\n",
       "      <td>0</td>\n",
       "      <td>113572</td>\n",
       "      <td>80.0</td>\n",
       "      <td>B28</td>\n",
       "      <td>NaN</td>\n",
       "      <td>False</td>\n",
       "      <td>Miss.</td>\n",
       "      <td>False</td>\n",
       "      <td>B</td>\n",
       "      <td>1</td>\n",
       "      <td>False</td>\n",
       "      <td>False</td>\n",
       "      <td>False</td>\n",
       "      <td>True</td>\n",
       "    </tr>\n",
       "    <tr>\n",
       "      <th>830</th>\n",
       "      <td>True</td>\n",
       "      <td>1</td>\n",
       "      <td>Stone, Mrs. George Nelson (Martha Evelyn)</td>\n",
       "      <td>62.0</td>\n",
       "      <td>0</td>\n",
       "      <td>0</td>\n",
       "      <td>113572</td>\n",
       "      <td>80.0</td>\n",
       "      <td>B28</td>\n",
       "      <td>NaN</td>\n",
       "      <td>False</td>\n",
       "      <td>Mrs.</td>\n",
       "      <td>False</td>\n",
       "      <td>B</td>\n",
       "      <td>1</td>\n",
       "      <td>False</td>\n",
       "      <td>False</td>\n",
       "      <td>False</td>\n",
       "      <td>True</td>\n",
       "    </tr>\n",
       "  </tbody>\n",
       "</table>\n",
       "</div>"
      ],
      "text/plain": [
       "             Survived Pclass                                       Name   Age  \\\n",
       "PassengerId                                                                     \n",
       "62               True      1                        Icard, Miss. Amelie  38.0   \n",
       "830              True      1  Stone, Mrs. George Nelson (Martha Evelyn)  62.0   \n",
       "\n",
       "             SibSp  Parch  Ticket  Fare Cabin Embarked   Male  Title   Rare  \\\n",
       "PassengerId                                                                   \n",
       "62               0      0  113572  80.0   B28      NaN  False  Miss.  False   \n",
       "830              0      0  113572  80.0   B28      NaN  False   Mrs.  False   \n",
       "\n",
       "            Deck  FamSize  Mother  Father  Child  Alone  \n",
       "PassengerId                                              \n",
       "62             B        1   False   False  False   True  \n",
       "830            B        1   False   False  False   True  "
      ]
     },
     "execution_count": 16,
     "metadata": {},
     "output_type": "execute_result"
    }
   ],
   "source": [
    "df_train[df_train.Embarked.isnull()]"
   ]
  },
  {
   "cell_type": "code",
   "execution_count": 17,
   "metadata": {
    "scrolled": true
   },
   "outputs": [
    {
     "data": {
      "text/plain": [
       "<seaborn.axisgrid.FacetGrid at 0x7fe2fdac7c18>"
      ]
     },
     "execution_count": 17,
     "metadata": {},
     "output_type": "execute_result"
    },
    {
     "data": {
      "image/png": "[encoded data removed]",
      "text/plain": [
       "<matplotlib.figure.Figure at 0x7fe2fdac7d68>"
      ]
     },
     "metadata": {},
     "output_type": "display_data"
    }
   ],
   "source": [
    "# Plot relationship between Fare, class, and embarked\n",
    "sns.catplot(\n",
    "    x='Embarked', y='Fare', hue='Pclass', kind='box', data=train, order=['C', 'S', 'Q'], height= 10, aspect=1.5)"
   ]
  },
  {
   "cell_type": "code",
   "execution_count": 18,
   "metadata": {},
   "outputs": [],
   "source": [
    "df_train.loc[62, 'Embarked'] = 'S'\n",
    "df_train.loc[830, 'Embarked'] = 'S'\n",
    "df_train['Embarked'] = df_train['Embarked'].astype(CategoricalDtype(categories=['S', 'C', 'Q'], ordered=False))"
   ]
  },
  {
   "cell_type": "markdown",
   "metadata": {},
   "source": [
    "Observation:\n",
    "* Median fare for port S corresponds to 80 USD paid by the passengers.\n",
    "\n",
    "Assumption:\n",
    "* They embarked from port S.\n",
    "\n",
    "Decision:\n",
    "* Impute missing port of embarkation."
   ]
  },
  {
   "cell_type": "markdown",
   "metadata": {},
   "source": [
    "### Imputing missing age"
   ]
  },
  {
   "cell_type": "markdown",
   "metadata": {},
   "source": [
    "#### Datawig"
   ]
  },
  {
   "cell_type": "code",
   "execution_count": 19,
   "metadata": {},
   "outputs": [
    {
     "data": {
      "text/plain": [
       "<seaborn.axisgrid.FacetGrid at 0x7fe2f7ed5128>"
      ]
     },
     "execution_count": 19,
     "metadata": {},
     "output_type": "execute_result"
    },
    {
     "data": {
      "image/png": "[encoded data removed]",
      "text/plain": [
       "<matplotlib.figure.Figure at 0x7fe2f7ed55c0>"
      ]
     },
     "metadata": {},
     "output_type": "display_data"
    }
   ],
   "source": [
    "g = sns.FacetGrid(df_train, col='Survived', height=6, aspect=1.2)\n",
    "g.set(xticks=np.arange(0,len(df_train),10))\n",
    "g.map(sns.distplot, 'Age', bins=25)"
   ]
  },
  {
   "cell_type": "markdown",
   "metadata": {},
   "source": [
    "Observation:\n",
    "* It seems children aged < 5 were much more likely to survive.\n",
    "\n",
    "Decision:\n",
    "* Categorize age, put children aged < 5 into a separate category."
   ]
  },
  {
   "cell_type": "code",
   "execution_count": 20,
   "metadata": {},
   "outputs": [
    {
     "data": {
      "text/plain": [
       "Index(['Survived', 'Pclass', 'Name', 'Age', 'SibSp', 'Parch', 'Ticket', 'Fare',\n",
       "       'Cabin', 'Embarked', 'Male', 'Title', 'Rare', 'Deck', 'FamSize',\n",
       "       'Mother', 'Father', 'Child', 'Alone'],\n",
       "      dtype='object')"
      ]
     },
     "execution_count": 20,
     "metadata": {},
     "output_type": "execute_result"
    }
   ],
   "source": [
    "df_train.columns"
   ]
  },
  {
   "cell_type": "code",
   "execution_count": 21,
   "metadata": {
    "scrolled": true
   },
   "outputs": [
    {
     "name": "stdout",
     "output_type": "stream",
     "text": [
      "Accuracy 0.7619047619047619\n",
      "Accuracy 0.8027210884353742\n",
      "Accuracy 0.8639455782312925\n",
      "Accuracy 0.8163265306122449\n",
      "Accuracy 0.8027210884353742\n",
      "Averaged accuracy over 5 iterations: 0.8095238095238095\n"
     ]
    }
   ],
   "source": [
    "import logging\n",
    "\n",
    "def fit_wo_logging(train_df, num_epochs, imputer):\n",
    "    logging.disable(logging.WARNING)\n",
    "    imputer.fit(train_df=train_df, num_epochs=num_epochs)\n",
    "    logging.disable(logging.NOTSET)\n",
    "    return imputer\n",
    "    \n",
    "def cut(df, start=0, end=81, bins_step=5):\n",
    "    return pd.cut(df, bins=np.arange(start, end, bins_step))\n",
    "\n",
    "def evaluate(pred, act, bins_step=5):\n",
    "    # Get test set accuracy\n",
    "    imp = pd.concat([pred, act], axis=1).dropna()\n",
    "    pred = cut(imp.iloc[:, 0])\n",
    "    act = cut(imp.iloc[:, 1])\n",
    "    return (pred == act).sum() / len(pred)\n",
    "\n",
    "def train_dtwg(\n",
    "    df_train=df_train,\n",
    "    input_columns=[c for c in df_train.columns if c not in ('Name', 'Cabin', 'Ticket')],\n",
    "    test_size=0.2,\n",
    "    num_epochs=100\n",
    "    ):\n",
    "    \n",
    "    df_dtwg = pd.get_dummies(df_train[input_columns])\n",
    "\n",
    "    df_dtwg_train, df_dtwg_test = datawig.utils.random_split(df_dtwg, split_ratios=[1-test_size, test_size])\n",
    "\n",
    "    # Initialize a SimpleImputer model\n",
    "    imputer = datawig.SimpleImputer(\n",
    "        input_columns=df_dtwg.columns, # column(s) containing information about the column we want to impute\n",
    "        output_column= 'Age', # the column we'd like to impute values for\n",
    "        # output_path = 'imputer_model' # stores model data and metrics\n",
    "    )\n",
    "\n",
    "    # Fit an imputer model on the train data\n",
    "    imputer = fit_wo_logging(df_dtwg_train, num_epochs, imputer)\n",
    "    \n",
    "    acc = None\n",
    "    if test_size > 0.0:\n",
    "        # Impute missing values and return original dataframe with predictions\n",
    "        pred = imputer.predict(df_dtwg_test)\n",
    "        acc = evaluate(pred['Age_imputed'], pred['Age'])\n",
    "        print('Accuracy', acc)\n",
    "        \n",
    "    return imputer, acc\n",
    "\n",
    "\n",
    "accuracies = []\n",
    "k = 5\n",
    "for i in range(k):\n",
    "    _, acc = train_dtwg()\n",
    "    accuracies.append(acc)\n",
    "print('Averaged accuracy over {} iterations:'.format(k), np.mean(accuracies))"
   ]
  },
  {
   "cell_type": "code",
   "execution_count": 22,
   "metadata": {
    "scrolled": true
   },
   "outputs": [
    {
     "data": {
      "image/png": "[encoded data removed]",
      "text/plain": [
       "<matplotlib.figure.Figure at 0x7fe2f7d3a048>"
      ]
     },
     "metadata": {},
     "output_type": "display_data"
    }
   ],
   "source": [
    "imputer, _ = train_dtwg(df_train, test_size=0.0)\n",
    "\n",
    "# Plot histogram of imputed ages\n",
    "dtwg_imp = imputer.predict(pd.get_dummies(df_train))[['Age_imputed']]\n",
    "\n",
    "# Compare original and imputed distributions of age\n",
    "fig, ax = plt.subplots(1, 3, figsize=(20, 5))\n",
    "ax[0].hist(df_train['Age'].dropna())\n",
    "ax[0].set_title('Original ages')\n",
    "ax[1].hist(dtwg_imp.values, facecolor='orange')\n",
    "ax[1].set_title('Datawig imputed all ages')\n",
    "missing = df_train['Age'].isnull()\n",
    "ax[2].hist(dtwg_imp[missing].values, facecolor='black', alpha=0.5)\n",
    "ax[2].set_title('Datawig imputed NaN ages')\n",
    "plt.show()"
   ]
  },
  {
   "cell_type": "markdown",
   "metadata": {},
   "source": [
    "Observations:\n",
    "* Using bins of size 10, we are achieving over 90% accuracy on the test set.\n",
    "* However, it is quite worrysome that most of the imputed values lie in range 28.5 to 33.\n",
    "\n",
    "Decisions:\n",
    "* Do not use age values using  for the age.\n",
    "* We have to find another way to impute data.\n",
    "\n",
    "Note:\n",
    "* It may be preferrable to categorize the data before training, but Datawig does not seem to work well with categorical data."
   ]
  },
  {
   "cell_type": "markdown",
   "metadata": {},
   "source": [
    "#### MICE"
   ]
  },
  {
   "cell_type": "code",
   "execution_count": 23,
   "metadata": {
    "collapsed": true
   },
   "outputs": [],
   "source": [
    "from impyute.imputation.cs import mice\n",
    "\n",
    "def train_mice(df_train=df_train, test_size=0.0):\n",
    "    # Start the MICE training\n",
    "    dummified = pd.get_dummies(df_train).applymap(float)\n",
    "    df_mice_train, df_mice_test = \\\n",
    "        train_test_split(dummified, test_size=test_size) if test_size else dummified, None\n",
    "    imp_train = mice(df_mice_train)\n",
    "    imp_train.index = df_mice_train.index\n",
    "    imp_train.columns = df_mice_train.columns \n",
    "    if test_size > 0.0:\n",
    "        # The library currently does not support saving model and predicting\n",
    "        pass\n",
    "    return imp_train"
   ]
  },
  {
   "cell_type": "code",
   "execution_count": 99,
   "metadata": {},
   "outputs": [
    {
     "data": {
      "text/plain": [
       "Index(['Survived', 'Pclass', 'Name', 'Age', 'SibSp', 'Parch', 'Ticket', 'Fare',\n",
       "       'Cabin', 'Embarked', 'Male', 'Title', 'Rare', 'Deck', 'FamSize',\n",
       "       'Mother', 'Father', 'Child', 'Alone', 'Priority', 'Class3', 'Master',\n",
       "       'Mr'],\n",
       "      dtype='object')"
      ]
     },
     "execution_count": 99,
     "metadata": {},
     "output_type": "execute_result"
    }
   ],
   "source": [
    "df_train.columns"
   ]
  },
  {
   "cell_type": "code",
   "execution_count": 24,
   "metadata": {},
   "outputs": [
    {
     "name": "stderr",
     "output_type": "stream",
     "text": [
      "/home/miroslav/.local/lib/python3.5/site-packages/impyute/util/preprocess.py:52: FutureWarning: Method .as_matrix will be removed in a future version. Use .values instead.\n",
      "  args[0] = args[0].as_matrix()\n",
      "/home/miroslav/.local/lib/python3.5/site-packages/matplotlib/figure.py:402: UserWarning: matplotlib is currently using a non-GUI backend, so cannot show the figure\n",
      "  \"matplotlib is currently using a non-GUI backend, \"\n"
     ]
    },
    {
     "data": {
      "image/png": "[encoded data removed]",
      "text/plain": [
       "<matplotlib.figure.Figure at 0x7fe2fda73048>"
      ]
     },
     "metadata": {},
     "output_type": "display_data"
    },
    {
     "data": {
      "image/png": "[encoded data removed]",
      "text/plain": [
       "<matplotlib.figure.Figure at 0x7fe2f7207438>"
      ]
     },
     "metadata": {},
     "output_type": "display_data"
    }
   ],
   "source": [
    "mice_imp = train_mice(df_train[input_columns], test_size=0.0)['Age']\n",
    "mice_imp[mice_imp <= 0] = 1\n",
    "\n",
    "fig, ax = plt.subplots(1, 3, figsize=(20, 5))\n",
    "bins = 20\n",
    "ax[0].hist(df_train['Age'].dropna(), bins=bins)\n",
    "ax[0].set_title('Original ages')\n",
    "ax[1].hist(mice_imp, bins=bins)\n",
    "ax[1].set_title('MICE all imputed ages')\n",
    "ax[2].hist(dtwg_imp.values, bins=bins)\n",
    "ax[2].set_title('Datawig all imputed ages')\n",
    "fig.show()\n",
    "\n",
    "fig, ax = plt.subplots(1, 1, figsize=(5, 5))\n",
    "missing = df_train['Age'].isnull()\n",
    "ax.hist(mice_imp[missing].values, bins=bins)\n",
    "ax.set_title('MICE imputed NaN ages')\n",
    "fig.show()"
   ]
  },
  {
   "cell_type": "code",
   "execution_count": 25,
   "metadata": {
    "collapsed": true
   },
   "outputs": [],
   "source": [
    "# Impute missing values to age column\n",
    "df_train.loc[missing, 'Age'] = mice_imp[missing]"
   ]
  },
  {
   "cell_type": "code",
   "execution_count": 29,
   "metadata": {},
   "outputs": [],
   "source": [
    "def priority(row):\n",
    "    # TODO: Factor in Sex, maybe fare\n",
    "    return row.Pclass * row.Age\n",
    "\n",
    "# With missing ages, we can create simple 'priority' feature\n",
    "df_train['Priority'] = df_train.apply(lambda r: priority(r), axis=1)"
   ]
  },
  {
   "cell_type": "markdown",
   "metadata": {},
   "source": [
    "### Imputing missing deck"
   ]
  },
  {
   "cell_type": "markdown",
   "metadata": {},
   "source": [
    "We will encode the cabin as an ordinal and use the most frequent The following probably isn't entirely proper way of imputing categorical values."
   ]
  },
  {
   "cell_type": "code",
   "execution_count": 30,
   "metadata": {},
   "outputs": [],
   "source": [
    "import numpy as np\n",
    "from sklearn.experimental import enable_iterative_imputer\n",
    "from sklearn.impute import IterativeImputer\n",
    "from sklearn.preprocessing import LabelEncoder\n",
    "from sklearn.linear_model import BayesianRidge\n",
    "\n",
    "def factorize_categorical(df):\n",
    "    df_c = df.copy()\n",
    "    for col in df_c.select_dtypes('category').columns:\n",
    "        df_c[col] = pd.factorize(df_c[col], na_sentinel=-1)[0]\n",
    "        df_c.loc[df_c[col] == -1, col] = np.NaN\n",
    "    return df_c\n",
    "\n",
    "input_columns = [c for c in df_train.columns if c not in ('Name', 'Ticket', 'Cabin')]\n",
    "\n",
    "imp = IterativeImputer(estimator=BayesianRidge(), max_iter=10, random_state=0,\n",
    "                       initial_strategy='most_frequent', min_value=0, max_value=7)\n",
    "df_train_temp = factorize_categorical(df_train)\n",
    "df_train_temp = imp.fit_transform(df_train_temp[input_columns])  \n",
    "df_train_temp = pd.DataFrame(df_train_temp, columns=input_columns, index=np.arange(1, 892))\n",
    "df_train_temp.Deck = df_train_temp.Deck.round()\n",
    "df_train.Deck = df_train_temp.Deck.astype('category')"
   ]
  },
  {
   "cell_type": "markdown",
   "metadata": {},
   "source": [
    "## Prediction"
   ]
  },
  {
   "cell_type": "code",
   "execution_count": 32,
   "metadata": {
    "collapsed": true
   },
   "outputs": [],
   "source": [
    "def plot_importances(feat_names, feat_imp):\n",
    "    assert len(feat_names) <= len(feat_imp) <= len(feat_names)+1\n",
    "    plt.figure(figsize=(10, 5))\n",
    "    ind = np.arange(0, len(feat_names))\n",
    "    corr_ind = np.argsort(feat_imp)[::-1]\n",
    "    width = 0.35\n",
    "    plt.bar(ind, np.sort(feat_imp)[::-1], width)\n",
    "    plt.xticks(ind, feat_names[corr_ind], rotation=45)\n",
    "    plt.show()\n",
    "    \n",
    "    \n",
    "def fit_evaluate(clf, X_train, y_train, feat_names, scoring='accuracy', cv=10):\n",
    "    clf = clf.fit(X_train, y_train)\n",
    "    if hasattr(clf, 'coef_'):\n",
    "        feat_imp = clf.coef_\n",
    "        print(', '.join(feat_names[np.argsort(feat_imp)][::-1]))\n",
    "    elif isinstance(clf, DecisionTreeClassifier):\n",
    "        feat_imp = clf.tree_.compute_feature_importances(normalize=False)\n",
    "        print(', '.join(feat_names[np.argsort(feat_imp)[::-1]]))\n",
    "        plot_importances(feat_names, feat_imp)\n",
    "    start_time = time.time()\n",
    "    accs = cross_val_score(clf, X_train, y_train, scoring=scoring, cv=cv)\n",
    "    total_time = time.time() - start_time\n",
    "    \n",
    "    print('{}-fold CV accuracy: {}%'.format(cv, np.mean(accs)))\n",
    "    print('Running time: {}'.format(datetime.timedelta(seconds=total_time)))\n",
    "    \n",
    "classifiers = [\n",
    "    ('LogisticRegression', LogisticRegression(solver='lbfgs', max_iter=1000)),\n",
    "    ('KNeighborsClassifier', KNeighborsClassifier()),\n",
    "    ('GaussianNB', GaussianNB()),\n",
    "    # ('LinearSVC', LinearSVC(max_iter=1000)),\n",
    "    ('SGDClassifier', SGDClassifier()),\n",
    "    ('DecisionTreeClassifier', DecisionTreeClassifier()),\n",
    "    ('GradientBoostingClassifier', GradientBoostingClassifier()),\n",
    "]"
   ]
  },
  {
   "cell_type": "code",
   "execution_count": 104,
   "metadata": {},
   "outputs": [
    {
     "name": "stdout",
     "output_type": "stream",
     "text": [
      "Fare                 4518.319 0.000   \n",
      "Priority             1606.039 0.000   \n",
      "Mr                   112.806  0.000   \n",
      "Male                 92.702   0.000   \n",
      "FamSize_1            46.913   0.000   \n",
      "Class3               41.553   0.000   \n",
      "Mother               25.855   0.000   \n",
      "Age                  24.169   0.000   \n",
      "FamSize_0            22.869   0.000   \n",
      "Alone                14.641   0.000   \n",
      "------------------------------------\n",
      "Mr                   383.945  0.000   \n",
      "Male                 372.406  0.000   \n",
      "Priority             111.202  0.000   \n",
      "Class3               103.058  0.000   \n",
      "FamSize_0            75.542   0.000   \n",
      "FamSize_1            75.542   0.000   \n",
      "Fare                 63.031   0.000   \n",
      "Alone                38.354   0.000   \n",
      "Mother               28.407   0.000   \n",
      "Age                  4.056    0.044   \n"
     ]
    }
   ],
   "source": [
    "from sklearn.feature_selection import chi2, f_classif, mutual_info_classif\n",
    "\n",
    "def compute_stats(X, y, stat, cols):\n",
    "    s, pval = stat(X, y)\n",
    "    for col_name, c, p in sorted(zip(cols, s, pval), key=lambda t: t[2]):\n",
    "        print('{:<20} {:<8.3f} {:<8.3f}'.format(col_name, c, p))\n",
    "        \n",
    "input_columns = [\n",
    "    c for c in df_train.columns if c not in (\n",
    "        'Name', 'Ticket', 'Cabin', 'Survived', 'Deck', 'Embarked',\n",
    "        'Title', 'Father', 'Pclass', 'SibSp', 'Parch', 'Rare', 'Master', 'Child')\n",
    "        # 'Title', 'FamSize', 'Mother', 'Father', 'Child', 'Alone', 'Rare', 'Priority', 'Deck')\n",
    "]\n",
    "\n",
    "# Make sure we have no NaNs\n",
    "# print(df_train[input_columns].isnull().sum())\n",
    "\n",
    "# Decide whether to factorize or dummify categorical variables\n",
    "df_train_dummies = pd.get_dummies(df_train[input_columns])\n",
    "# df_train_dummies = factorize_categorical(df_train[input_columns])\n",
    "\n",
    "X_train = df_train_dummies.values\n",
    "y_train = df_train.Survived\n",
    "        \n",
    "compute_stats(X_train, y_train, chi2, df_train_dummies.columns)\n",
    "print('-'*36)\n",
    "compute_stats(X_train, y_train, f_classif, df_train_dummies.columns)\n"
   ]
  },
  {
   "cell_type": "code",
   "execution_count": 105,
   "metadata": {},
   "outputs": [
    {
     "name": "stdout",
     "output_type": "stream",
     "text": [
      "LogisticRegression\n",
      "Mr, Male, FamSize_0, Class3, Priority, Age, Fare, Mother, FamSize_1, Alone\n",
      "10-fold CV accuracy: 0.820394960844399%\n",
      "Running time: 0:00:01.422521\n",
      "\n",
      "KNeighborsClassifier\n",
      "10-fold CV accuracy: 0.692652933832709%\n",
      "Running time: 0:00:00.046636\n",
      "\n",
      "GaussianNB\n",
      "10-fold CV accuracy: 0.7790463625014186%\n",
      "Running time: 0:00:00.044431\n",
      "\n",
      "SGDClassifier\n",
      "Male, Mr, Class3, FamSize_0, Fare, Priority, Age, Mother, FamSize_1, Alone\n",
      "10-fold CV accuracy: 0.7128654522755646%\n",
      "Running time: 0:00:00.064118\n",
      "\n",
      "DecisionTreeClassifier\n",
      "Mr, Fare, Priority, Age, Class3, Male, FamSize_0, FamSize_1, Mother, Alone\n"
     ]
    },
    {
     "data": {
      "image/png": "[encoded data removed]",
      "text/plain": [
       "<matplotlib.figure.Figure at 0x7fe2f7253940>"
      ]
     },
     "metadata": {},
     "output_type": "display_data"
    },
    {
     "name": "stdout",
     "output_type": "stream",
     "text": [
      "10-fold CV accuracy: 0.795737997957099%\n",
      "Running time: 0:00:00.102598\n",
      "\n",
      "GradientBoostingClassifier\n",
      "10-fold CV accuracy: 0.8329431960049938%\n",
      "Running time: 0:00:01.529142\n",
      "\n"
     ]
    }
   ],
   "source": [
    "for clf_name, clf in classifiers:\n",
    "    print(clf_name)\n",
    "    fit_evaluate(clf, X_train, y_train, df_train_dummies.columns)\n",
    "    print()"
   ]
  },
  {
   "cell_type": "code",
   "execution_count": null,
   "metadata": {
    "collapsed": true
   },
   "outputs": [],
   "source": []
  }
 ],
 "metadata": {
  "kernelspec": {
   "display_name": "Python 3",
   "language": "python",
   "name": "python3"
  },
  "language_info": {
   "codemirror_mode": {
    "name": "ipython",
    "version": 3
   },
   "file_extension": ".py",
   "mimetype": "text/x-python",
   "name": "python",
   "nbconvert_exporter": "python",
   "pygments_lexer": "ipython3",
   "version": "3.5.2"
  },
  "toc": {
   "base_numbering": 1,
   "nav_menu": {},
   "number_sections": true,
   "sideBar": true,
   "skip_h1_title": false,
   "title_cell": "Table of Contents",
   "title_sidebar": "Contents",
   "toc_cell": false,
   "toc_position": {
    "height": "calc(100% - 180px)",
    "left": "10px",
    "top": "150px",
    "width": "165px"
   },
   "toc_section_display": true,
   "toc_window_display": true
  }
 },
 "nbformat": 4,
 "nbformat_minor": 2
}
